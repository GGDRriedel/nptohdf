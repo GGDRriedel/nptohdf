{
 "cells": [
  {
   "cell_type": "markdown",
   "metadata": {},
   "source": [
    "## Target: convert a numpy array and or Image directly into a .hdf5 GPR-max model\n",
    "\n",
    "Parts of this software are directly derived from the gprMax repository\n",
    "https://github.com/gprMax/gprMax\n",
    "\n",
    "The GNU license applies, the software is \"as is\", no warranties for anything, not even implied warranties\n"
   ]
  },
  {
   "cell_type": "code",
   "execution_count": 1,
   "metadata": {},
   "outputs": [],
   "source": [
    "\n",
    "import argparse\n",
    "import os\n",
    "import h5py\n",
    "import matplotlib.image as mpimg\n",
    "import matplotlib.pyplot as plt\n",
    "import numpy as np\n",
    "import cv2\n",
    "from scipy.signal import find_peaks "
   ]
  },
  {
   "cell_type": "code",
   "execution_count": 4,
   "metadata": {},
   "outputs": [],
   "source": [
    "file=\"drawn/drawn.bmp\"\n",
    "# Filename for geometry (HDF5) file\n",
    "hdf5file = os.path.splitext(file)[0] + '.h5'\n",
    "dx=dy=dz=0.002\n",
    "zcells=1\n"
   ]
  },
  {
   "cell_type": "code",
   "execution_count": 5,
   "metadata": {},
   "outputs": [
    {
     "data": {
      "text/plain": [
       "<matplotlib.image.AxesImage at 0x22e822528b0>"
      ]
     },
     "execution_count": 5,
     "metadata": {},
     "output_type": "execute_result"
    },
    {
     "data": {
      "image/png": "[encoded data removed]",
      "text/plain": [
       "<Figure size 432x288 with 1 Axes>"
      ]
     },
     "metadata": {
      "needs_background": "light"
     },
     "output_type": "display_data"
    }
   ],
   "source": [
    "data=cv2.imread(file)\n",
    "plt.imshow(data,aspect='auto')"
   ]
  },
  {
   "cell_type": "markdown",
   "metadata": {},
   "source": [
    "Optional read with imread, needs to be .png though\n",
    "#data=mpimg.imread('tools/drawn/drawn.png')\n"
   ]
  },
  {
   "cell_type": "markdown",
   "metadata": {},
   "source": [
    "The resulting array has 3 dimensions since it comes from R,G,B"
   ]
  },
  {
   "cell_type": "code",
   "execution_count": 6,
   "metadata": {},
   "outputs": [
    {
     "data": {
      "text/plain": [
       "(4000, 10000, 3)"
      ]
     },
     "execution_count": 6,
     "metadata": {},
     "output_type": "execute_result"
    }
   ],
   "source": [
    "data.shape"
   ]
  },
  {
   "cell_type": "markdown",
   "metadata": {},
   "source": [
    "### For our purposes, a greyscale is enough\n",
    "\n",
    "Taken from: https://stackoverflow.com/questions/12201577/how-can-i-convert-an-rgb-image-into-grayscale-in-python\n",
    "It should look like the matlab version"
   ]
  },
  {
   "cell_type": "code",
   "execution_count": 7,
   "metadata": {},
   "outputs": [],
   "source": [
    "def rgb2gray(rgb):\n",
    "    return np.dot(rgb[...,:3], [0.2989, 0.5870, 0.1140])"
   ]
  },
  {
   "cell_type": "code",
   "execution_count": 8,
   "metadata": {},
   "outputs": [
    {
     "name": "stdout",
     "output_type": "stream",
     "text": [
      "(4000, 10000)\n"
     ]
    },
    {
     "data": {
      "image/png": "[encoded data removed]",
      "text/plain": [
       "<Figure size 432x288 with 1 Axes>"
      ]
     },
     "metadata": {
      "needs_background": "light"
     },
     "output_type": "display_data"
    }
   ],
   "source": [
    "#%matplotlib qt\n",
    "data_grey=np.floor(rgb2gray(data))\n",
    "plt.imshow(data_grey,aspect='auto',cmap='gray',vmin=0,vmax=200)\n",
    "print(data_grey.shape)"
   ]
  },
  {
   "cell_type": "markdown",
   "metadata": {},
   "source": [
    "Problem: Colour values are not discrete due to image handling. Neither in grey nor in colour"
   ]
  },
  {
   "cell_type": "code",
   "execution_count": 9,
   "metadata": {},
   "outputs": [
    {
     "data": {
      "text/plain": [
       "[(16,), (26,)]"
      ]
     },
     "execution_count": 9,
     "metadata": {},
     "output_type": "execute_result"
    }
   ],
   "source": [
    "[np.unique(data_grey).shape,np.unique(data).shape]"
   ]
  },
  {
   "cell_type": "markdown",
   "metadata": {},
   "source": [
    "A histogram shows, that we have a few \"main\" peaks. our count shows, that we also have a few minor ones.\n",
    "\n",
    "Assuming that the drawn objects have a higher count, we pick the values with a lot of prominence in the historgram of colour values"
   ]
  },
  {
   "cell_type": "code",
   "execution_count": 10,
   "metadata": {},
   "outputs": [
    {
     "data": {
      "image/png": "[encoded data removed]",
      "text/plain": [
       "<Figure size 432x288 with 1 Axes>"
      ]
     },
     "metadata": {
      "needs_background": "light"
     },
     "output_type": "display_data"
    }
   ],
   "source": [
    "f=plt.figure()\n",
    "n=plt.hist(data_grey.flatten(),bins=range(255))\n",
    "peaks,_=find_peaks(np.concatenate(([min(n[0])],n[0],[min(n[0])])), prominence=1000)\n",
    "\n",
    "f.axes[0].scatter(peaks-1,n[0][peaks-1])\n",
    "materials=n[1][peaks]"
   ]
  },
  {
   "cell_type": "markdown",
   "metadata": {},
   "source": [
    "Need to fix our manipulation/concat stuff from detection so we subtract 1, except on the last value. \n",
    "Afterwards, the values of the materials should match with the values in the greyscale plot"
   ]
  },
  {
   "cell_type": "code",
   "execution_count": 11,
   "metadata": {},
   "outputs": [
    {
     "data": {
      "text/plain": [
       "array([ 33, 100, 155, 159, 254])"
      ]
     },
     "execution_count": 11,
     "metadata": {},
     "output_type": "execute_result"
    }
   ],
   "source": [
    "materials=materials-1\n",
    "materials[-1]=materials[-1]+1\n",
    "materials"
   ]
  },
  {
   "cell_type": "code",
   "execution_count": 12,
   "metadata": {},
   "outputs": [],
   "source": [
    "# Array to store geometry data (initialised as background, i.e. -1)\n",
    "arraydata = np.ones((data.shape[0], data.shape[1], zcells), dtype=np.int16) * -1\n",
    "dx_dy_dz = (dx,dy,dz)"
   ]
  },
  {
   "cell_type": "code",
   "execution_count": 13,
   "metadata": {},
   "outputs": [
    {
     "name": "stdout",
     "output_type": "stream",
     "text": [
      "0 33 2793801\n",
      "1 100 2620000\n",
      "2 155 25796535\n",
      "3 159 509526\n",
      "4 254 8280000\n"
     ]
    }
   ],
   "source": [
    "# Write geometry (HDF5) file\n",
    "with h5py.File(hdf5file, 'w') as fout:\n",
    "\n",
    "    # Add attribute with name 'dx_dy_dz' for spatial resolution\n",
    "    fout.attrs['dx_dy_dz'] = dx_dy_dz\n",
    "\n",
    "    # Use a boolean mask to match selected pixel values with position in image\n",
    "    for i, material in enumerate(materials):\n",
    "        mask = data_grey == material\n",
    "        arraydata[mask] = i\n",
    "        np.sum(mask)\n",
    "        print(i,material,np.sum(mask))\n",
    "\n",
    "    # Write data to file\n",
    "    fout.create_dataset('data', data=arraydata)"
   ]
  },
  {
   "cell_type": "code",
   "execution_count": 14,
   "metadata": {},
   "outputs": [
    {
     "data": {
      "text/plain": [
       "<matplotlib.image.AxesImage at 0x22ea38f9a60>"
      ]
     },
     "execution_count": 14,
     "metadata": {},
     "output_type": "execute_result"
    },
    {
     "data": {
      "image/png": "[encoded data removed]",
      "text/plain": [
       "<Figure size 432x288 with 1 Axes>"
      ]
     },
     "metadata": {
      "needs_background": "light"
     },
     "output_type": "display_data"
    }
   ],
   "source": [
    "plt.imshow(arraydata[:,:,0])"
   ]
  }
 ],
 "metadata": {
  "kernelspec": {
   "display_name": "Python 3",
   "language": "python",
   "name": "python3"
  },
  "language_info": {
   "codemirror_mode": {
    "name": "ipython",
    "version": 3
   },
   "file_extension": ".py",
   "mimetype": "text/x-python",
   "name": "python",
   "nbconvert_exporter": "python",
   "pygments_lexer": "ipython3",
   "version": "3.8.1"
  }
 },
 "nbformat": 4,
 "nbformat_minor": 4
}
